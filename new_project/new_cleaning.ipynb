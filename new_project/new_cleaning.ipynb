{
 "cells": [
  {
   "cell_type": "markdown",
   "metadata": {},
   "source": [
    "# Cleaning the dataset, preparing for analisis."
   ]
  },
  {
   "cell_type": "code",
   "execution_count": 306,
   "metadata": {},
   "outputs": [
    {
     "name": "stdout",
     "output_type": "stream",
     "text": [
      "33686\n",
      "33156\n"
     ]
    }
   ],
   "source": [
    "import pandas as pd\n",
    "import numpy as np\n",
    "columns = [\"oferta\",\"propiedad\",\"monto\",\"moneda\",\"direccion\", \\\n",
    "    \"inmobiliaria\",\"comentario\",\"metros_quad\",\"n_dormitorios\",\"n_baños\"]\n",
    "raw = pd.read_csv(\"../data/real_estate_data_raw.csv\")\n",
    "raw.columns = columns\n",
    "\n",
    "print(len(raw))\n",
    "\n",
    "raw = raw.drop_duplicates()\n",
    "raw.dropna(subset=[\"monto\", \"moneda\", \"direccion\", \"metros_quad\"]) # dropping rows that lack information in this vital subset\n",
    "raw.reset_index(inplace=True)\n",
    "print(len(raw))\n"
   ]
  },
  {
   "cell_type": "markdown",
   "metadata": {},
   "source": [
    "### Preparing column \"monto\", the price of every propiety"
   ]
  },
  {
   "cell_type": "code",
   "execution_count": 307,
   "metadata": {},
   "outputs": [
    {
     "name": "stdout",
     "output_type": "stream",
     "text": [
      "       index             oferta        propiedad   monto moneda  \\\n",
      "0          0              venta    departamentos    4990     uf   \n",
      "1          1              venta    departamentos    4490     uf   \n",
      "2          2              venta    departamentos    3065     uf   \n",
      "3          3              venta    departamentos    1925     uf   \n",
      "4          4              venta    departamentos    2531     uf   \n",
      "...      ...                ...              ...     ...    ...   \n",
      "33151  33681  arriendo temporal  otros inmuebles   35000      $   \n",
      "33152  33682  arriendo temporal  otros inmuebles   10000      $   \n",
      "33153  33683  arriendo temporal  otros inmuebles  230000      $   \n",
      "33154  33684  arriendo temporal  otros inmuebles  380000      $   \n",
      "33155  33685  arriendo temporal  otros inmuebles   75000      $   \n",
      "\n",
      "                                               direccion  \\\n",
      "0       comandante malbec 13133, la dehesa, lo barnechea   \n",
      "1      josé manuel infante 1045, barrio italia, provi...   \n",
      "2            edmundo eluchans 3011, reñaca, viña del mar   \n",
      "3            castellón 1265, barrio poniente, concepción   \n",
      "4          virginio arias 1371, juan gómez millas, ñuñoa   \n",
      "...                                                  ...   \n",
      "33151  matías cousiño 82, santiago, chile, centro his...   \n",
      "33152             santo domingo 191, arauco maipú, maipú   \n",
      "33153  logroño, san joaquín, chile, metro pedrero, sa...   \n",
      "33154  av. providencia, providencia, chile, manuel mo...   \n",
      "33155  las pinpinelas 763, concón, chile, higuerillas...   \n",
      "\n",
      "                  inmobiliaria                                 comentario  \\\n",
      "0        edificio aires malbec                                        NaN   \n",
      "1               barrio infante                                        NaN   \n",
      "2                 hoy eluchans                                        NaN   \n",
      "3      edificio castellón 1265                                        NaN   \n",
      "4                      m ñuñoa                                        NaN   \n",
      "...                        ...                                        ...   \n",
      "33151                      NaN                                        NaN   \n",
      "33152                      NaN       arriendo de pieza por dias o mensual   \n",
      "33153                      NaN  arriendo habitación amoblada a estudiante   \n",
      "33154                      NaN              arriendo pieza,solo a mujeres   \n",
      "33155                      NaN      departamento para 2, 4 ó 6 ocupantes.   \n",
      "\n",
      "              metros_quad      n_dormitorios      n_baños  \n",
      "0      54 - 100 m² útiles  1 - 3 dormitorios  1 - 2 baños  \n",
      "1       39 - 79 m² útiles  1 - 3 dormitorios  1 - 2 baños  \n",
      "2       30 - 58 m² útiles  1 - 2 dormitorios  1 - 2 baños  \n",
      "3       21 - 56 m² útiles  1 - 2 dormitorios  1 - 2 baños  \n",
      "4       31 - 51 m² útiles  1 - 2 dormitorios  1 - 2 baños  \n",
      "...                   ...                ...          ...  \n",
      "33151        80 m² útiles                NaN          NaN  \n",
      "33152        20 m² útiles                NaN          NaN  \n",
      "33153        15 m² útiles                NaN          NaN  \n",
      "33154         4 m² útiles                NaN          NaN  \n",
      "33155        75 m² útiles                NaN          NaN  \n",
      "\n",
      "[33156 rows x 11 columns]\n",
      "              index\n",
      "count  33156.000000\n",
      "mean   16787.607612\n",
      "std     9749.511395\n",
      "min        0.000000\n",
      "25%     8320.750000\n",
      "50%    16725.500000\n",
      "75%    25228.250000\n",
      "max    33685.000000\n",
      "index             Int64\n",
      "oferta           string\n",
      "propiedad        string\n",
      "monto            string\n",
      "moneda           string\n",
      "direccion        string\n",
      "inmobiliaria     string\n",
      "comentario       string\n",
      "metros_quad      string\n",
      "n_dormitorios    string\n",
      "n_baños          string\n",
      "dtype: object\n"
     ]
    }
   ],
   "source": [
    "\n",
    "mask= [\".\" in monto for monto in raw[\"monto\"]]\n",
    "raw.loc[mask, \"monto\"] = raw.loc[mask, \"monto\"].apply(lambda x: x.replace(\".\", \"\")) # removing dots that denote thousands\n",
    "mask = [not number.isnumeric() for number in raw[\"monto\"]] # rows to modifie, that have not numeric value in 'monto' attribute\n",
    "raw.loc[mask,\"monto\"] = pd.to_numeric(raw.loc[mask,\"monto\"]) # modifiing types\n",
    "#mask = raw.index[mask]\n",
    "#raw = raw.drop(index=mask)\n",
    "#raw.reset_index()\n",
    "\n",
    "\n",
    "print(raw)\n",
    "print(raw.describe())\n",
    "raw = raw.convert_dtypes()\n",
    "print(raw.dtypes)"
   ]
  },
  {
   "cell_type": "markdown",
   "metadata": {},
   "source": [
    "### Preparing column \"direccion\", its adress."
   ]
  },
  {
   "cell_type": "code",
   "execution_count": 308,
   "metadata": {},
   "outputs": [
    {
     "data": {
      "text/plain": [
       "Series([], Name: direccion, dtype: string)"
      ]
     },
     "execution_count": 308,
     "metadata": {},
     "output_type": "execute_result"
    }
   ],
   "source": [
    "def corrected(comuna):\n",
    "    if comuna == \"tiltil\": return \"til til\"\n",
    "    elif comuna == \"calera\": return \"la calera\"\n",
    "    elif comuna == \"río ibánez\": return \"río ibáñez\"\n",
    "    elif comuna == \"coihaique\": return \"coyhaique\"\n",
    "    elif comuna == \"llaillay\": return \"llay-llay\"\n",
    "    elif comuna == \"paiguano\": return \"paihuano\"\n",
    "    else: return comuna\n",
    "chile_reg = pd.read_csv(\"./Data/communes_of_chile.csv\")\n",
    "raw.loc[:,\"comuna\"] = raw.loc[:,\"direccion\"].apply(lambda x: x.split(\",\")[-1].strip())\n",
    "mask = [not comuna in chile_reg[\"comuna\"].to_numpy() for comuna in raw[\"comuna\"]]\n",
    "raw.loc[mask,\"comuna\"] = raw.loc[mask,\"direccion\"].apply(lambda x: x.split(\",\")[0].strip())\n",
    "raw.loc[mask,\"comuna\"] = raw.loc[mask,\"comuna\"].apply(corrected)\n",
    "mask = [not comuna in chile_reg[\"comuna\"].to_numpy() for comuna in raw[\"comuna\"]]\n",
    "raw.loc[mask,\"comuna\"] = raw.loc[mask,\"direccion\"].apply(lambda x: x.split(\",\")[-1].strip())\n",
    "raw.loc[mask,\"comuna\"] = raw.loc[mask,\"comuna\"].apply(corrected)\n",
    "mask = [not comuna in chile_reg[\"comuna\"].to_numpy() for comuna in raw[\"comuna\"]]\n",
    "raw.loc[mask,\"direccion\"]\n",
    "\n"
   ]
  },
  {
   "cell_type": "markdown",
   "metadata": {},
   "source": [
    "### Preparing column \"metros_quad\", its area."
   ]
  },
  {
   "cell_type": "markdown",
   "metadata": {},
   "source": [
    "Converting by brute force every \"metros_quad\" column's elements. Also, spliting the column (in a list) by \" \"."
   ]
  },
  {
   "cell_type": "code",
   "execution_count": 309,
   "metadata": {},
   "outputs": [
    {
     "data": {
      "text/plain": [
       "<NA>"
      ]
     },
     "execution_count": 309,
     "metadata": {},
     "output_type": "execute_result"
    }
   ],
   "source": [
    "not_none_m = [not np.any([m is None, m is np.nan, m is pd.NA]) for m in raw.loc[:,\"metros_quad\"]]\n",
    "raw = raw.convert_dtypes()\n",
    "#raw.loc[not_none_mask, \"metros_quad\"] = raw.loc[not_none_mask, \"metros_quad\"].apply(lambda x: str(x))\n",
    "raw.loc[:, \"metros_quad\"] = raw.loc[:,\"metros_quad\"].str.split(pat=\" \", expand=False)\n",
    "raw.loc[2568, \"metros_quad\"]"
   ]
  },
  {
   "cell_type": "markdown",
   "metadata": {},
   "source": [
    "Search for missplaced \"n_dormitorio\" values in \"metros_quad\". Move every misplaced element to its righteous column, \"n_dormitorios\"."
   ]
  },
  {
   "cell_type": "code",
   "execution_count": 310,
   "metadata": {},
   "outputs": [],
   "source": [
    "rooms_mask = raw.loc[not_none_m, \"metros_quad\"].apply(lambda x: \"dormitorio\" in x[-1]) \\\n",
    "    .reindex(index=list(range(len(raw))), fill_value=False)\n",
    "none_mask_d = [np.any([d is None, d is np.nan, d is pd.NA]) for d in raw.loc[:,\"n_dormitorios\"]]\n",
    "#raw.loc[list_logical('and',notnone_mask,rooms_mask), [\"metros_quad\", \"n_dormitorios\"]]\n",
    "raw.loc[np.all([rooms_mask,none_mask_d],axis=0), \"n_dormitorios\"] = [\" \".join(rooms).strip() for rooms in raw.loc[rooms_mask, \"metros_quad\"]]\n",
    "raw.loc[np.all([rooms_mask,none_mask_d],axis=0), \"metros_quad\"] = pd.NA"
   ]
  },
  {
   "cell_type": "code",
   "execution_count": 311,
   "metadata": {},
   "outputs": [
    {
     "data": {
      "text/plain": [
       "2568     <NA>\n",
       "3638     <NA>\n",
       "3897     <NA>\n",
       "3939     <NA>\n",
       "4109     <NA>\n",
       "         ... \n",
       "32820    <NA>\n",
       "32830    <NA>\n",
       "32903    <NA>\n",
       "32978    <NA>\n",
       "32991    <NA>\n",
       "Name: metros_quad, Length: 1254, dtype: object"
      ]
     },
     "execution_count": 311,
     "metadata": {},
     "output_type": "execute_result"
    }
   ],
   "source": [
    "none_m = [np.any([m is None, m is np.nan, m is pd.NA]) for m in raw.loc[:,\"metros_quad\"]]\n",
    "raw.loc[none_m, \"metros_quad\"]"
   ]
  },
  {
   "cell_type": "code",
   "execution_count": 312,
   "metadata": {},
   "outputs": [],
   "source": [
    "not_none_m= [not r for r in none_m]\n",
    "wrongs= raw.loc[not_none_m, \"metros_quad\"].apply(lambda x: \"útiles\" not in x[-1].strip() and \"totales\" not in x[-1].strip()) \\\n",
    "    .reindex(index=list(range(len(raw))), fill_value=False) # zero values, nothing else to do\n",
    "rights = np.all([[not w for w in wrongs],not_none_m], axis=0)\n",
    "raw.loc[rights, \"unidad_medida\"] = raw.loc[rights, \"metros_quad\"].apply(lambda x: x[-2])\n",
    "raw.loc[rights, \"area\"] = raw.loc[rights, \"metros_quad\"].apply(lambda x: x[:-2])\n",
    "raw.loc[rights, \"area\"] = raw.loc[rights, \"area\"].apply(lambda x: [x[0],x[-1]] if len(x)==3 else x)"
   ]
  },
  {
   "cell_type": "markdown",
   "metadata": {},
   "source": [
    "### Preparing \"n_formitorios\" and \"n_baños\""
   ]
  },
  {
   "cell_type": "markdown",
   "metadata": {},
   "source": [
    "In this section, I'll prepare the last two columns \"n_dormitorios\" and \"n_baños\" without much introduction and utilizing the same method of the previous columns."
   ]
  },
  {
   "cell_type": "code",
   "execution_count": 313,
   "metadata": {},
   "outputs": [],
   "source": [
    "not_none_b = [not np.any([b is None, b is np.nan, b is pd.NA]) for b in raw[\"n_baños\"]]\n",
    "rights_b = raw.loc[:, \"n_baños\"].apply(lambda x: isinstance(x, str))\n",
    "wrongs = [not r for r in rights_b]\n",
    "raw.loc[np.all([wrongs, not_none_b], axis=0), \"n_baños\"] # zero values, there isn't a value that is not string and is not a void value\n",
    "raw.loc[np.all([rights_b, not_none_b], axis=0), \"n_baños\"].apply(lambda x: \"baño\" not in x).sum() # zero values, there isn't a value that is not string and is not a void value.\n",
    "raw.loc[:, \"n_baños\"] = raw.loc[:, \"n_baños\"].str.split(pat=\" \")\n"
   ]
  },
  {
   "cell_type": "code",
   "execution_count": 314,
   "metadata": {},
   "outputs": [],
   "source": [
    "\n",
    "raw.loc[rights_b, \"n_baños\"] = raw.loc[rights_b, \"n_baños\"].apply(lambda x: x[:-1])\n",
    "raw.loc[rights_b, \"n_baños\"] = raw.loc[rights_b, \"n_baños\"].apply(lambda x: [x[0],x[-1]] if len(x)==3 else x)"
   ]
  },
  {
   "cell_type": "code",
   "execution_count": 315,
   "metadata": {},
   "outputs": [
    {
     "data": {
      "text/plain": [
       "225      1 - 15 privados\n",
       "806       1 - 3 privados\n",
       "926            1 privado\n",
       "932       1 - 4 privados\n",
       "1100           1 privado\n",
       "1111           1 privado\n",
       "2049      1 - 2 privados\n",
       "2111           1 privado\n",
       "7969         1 - 2 baños\n",
       "7970              1 baño\n",
       "7971      1 - 3 privados\n",
       "7972      1 - 3 privados\n",
       "7973      1 - 4 privados\n",
       "7974      1 - 3 privados\n",
       "7975      1 - 2 privados\n",
       "7976             2 baños\n",
       "7977      1 - 2 privados\n",
       "7978      1 - 2 privados\n",
       "7979      1 - 3 privados\n",
       "7980           1 privado\n",
       "7981              1 baño\n",
       "7982      1 - 3 privados\n",
       "7983         1 - 2 baños\n",
       "7984         1 - 2 baños\n",
       "7985      1 - 3 privados\n",
       "7986              1 baño\n",
       "7988      1 - 3 privados\n",
       "7989      1 - 3 privados\n",
       "7991           1 privado\n",
       "7992      1 - 4 privados\n",
       "7993           1 privado\n",
       "7994              1 baño\n",
       "7995      1 - 2 privados\n",
       "7996      1 - 3 privados\n",
       "7997      1 - 3 privados\n",
       "7998           1 privado\n",
       "8001           1 privado\n",
       "8002      1 - 2 privados\n",
       "8003              1 baño\n",
       "8004      1 - 3 privados\n",
       "8005           1 privado\n",
       "8006      1 - 2 privados\n",
       "8007              1 baño\n",
       "8008           1 privado\n",
       "8009      1 - 2 privados\n",
       "24469     1 - 2 privados\n",
       "24471        2 - 4 baños\n",
       "24472       3 - 12 baños\n",
       "Name: n_dormitorios, dtype: string"
      ]
     },
     "execution_count": 315,
     "metadata": {},
     "output_type": "execute_result"
    }
   ],
   "source": [
    "not_none_d = [not np.any([d is None, d is np.nan,d is pd.NA]) for d in raw[\"n_dormitorios\"]]\n",
    "rights_d = raw.loc[:, \"n_dormitorios\"].apply(lambda x: isinstance(x, str))\n",
    "wrongs = [not r for r in rights_d]\n",
    "raw.loc[np.all([wrongs, not_none_d], axis=0), \"n_dormitorios\"] # zero values, there isn't a value that is not string and is not a void value.\n",
    "real_wrongs = raw.loc[np.all([rights_d, not_none_d], axis=0), \"n_dormitorios\"].apply(lambda x: \"dormitorio\" not in x) \\\n",
    "    .reindex(index=list(range(len(raw))), fill_value=False) # 48 string values that may not belong to this column, \n",
    "    # a lot of the instead of the word 'dormitorio' reads privado(s), the rest are 'baño(s)' so I'll be discarting just the later.\n",
    "raw.loc[real_wrongs, \"n_dormitorios\"]"
   ]
  },
  {
   "cell_type": "code",
   "execution_count": 316,
   "metadata": {},
   "outputs": [
    {
     "data": {
      "text/plain": [
       "7969      1 - 2 baños\n",
       "7970           1 baño\n",
       "7976          2 baños\n",
       "7981           1 baño\n",
       "7983      1 - 2 baños\n",
       "7984      1 - 2 baños\n",
       "7986           1 baño\n",
       "7994           1 baño\n",
       "8003           1 baño\n",
       "8007           1 baño\n",
       "24471     2 - 4 baños\n",
       "24472    3 - 12 baños\n",
       "Name: n_dormitorios, dtype: string"
      ]
     },
     "execution_count": 316,
     "metadata": {},
     "output_type": "execute_result"
    }
   ],
   "source": [
    "wrong_bath = raw.loc[np.all([rights_d, not_none_d], axis=0), \"n_dormitorios\"].apply(lambda x: \"baño\" in x) \\\n",
    "    .reindex(index=list(range(len(raw))), fill_value=False)\n",
    "raw.loc[wrong_bath, \"n_dormitorios\"]"
   ]
  },
  {
   "cell_type": "code",
   "execution_count": 317,
   "metadata": {},
   "outputs": [],
   "source": [
    "raw.loc[:, \"n_dormitorios\"] = raw.loc[:, \"n_dormitorios\"].str.split(pat=\" \")"
   ]
  },
  {
   "cell_type": "code",
   "execution_count": 318,
   "metadata": {},
   "outputs": [],
   "source": [
    "raw.loc[rights_d, \"n_dormitorios\"] = raw.loc[rights_d, \"n_dormitorios\"].apply(lambda x: x[:-1]) # Column correction\n",
    "raw.loc[rights_d, \"n_dormitorios\"] = raw.loc[rights_d, \"n_dormitorios\"].apply(lambda x: [x[0],x[-1]] if len(x)==3 else x)"
   ]
  },
  {
   "cell_type": "code",
   "execution_count": 319,
   "metadata": {},
   "outputs": [
    {
     "data": {
      "text/plain": [
       "7969      [1, 2]\n",
       "7970         [1]\n",
       "7976         [2]\n",
       "7981         [1]\n",
       "7983      [1, 2]\n",
       "7984      [1, 2]\n",
       "7986         [1]\n",
       "7994         [1]\n",
       "8003         [1]\n",
       "8007         [1]\n",
       "24471     [2, 4]\n",
       "24472    [3, 12]\n",
       "Name: n_baños, dtype: object"
      ]
     },
     "execution_count": 319,
     "metadata": {},
     "output_type": "execute_result"
    }
   ],
   "source": [
    "none_b = [np.any([b is None, b is np.nan, b is pd.NA]) for b in raw[\"n_baños\"]]\n",
    "raw.loc[np.all([none_b,wrong_bath], axis=0), \"n_baños\"] = raw.loc[np.all([none_b,wrong_bath], axis=0), \"n_dormitorios\"]\n",
    "raw.loc[wrong_bath, \"n_dormitorios\"] = pd.NA\n",
    "raw.loc[wrong_bath, \"n_baños\"]"
   ]
  },
  {
   "cell_type": "markdown",
   "metadata": {},
   "source": [
    "### Dropping columns that are redundant"
   ]
  },
  {
   "cell_type": "code",
   "execution_count": 320,
   "metadata": {},
   "outputs": [
    {
     "data": {
      "text/html": [
       "<div>\n",
       "<style scoped>\n",
       "    .dataframe tbody tr th:only-of-type {\n",
       "        vertical-align: middle;\n",
       "    }\n",
       "\n",
       "    .dataframe tbody tr th {\n",
       "        vertical-align: top;\n",
       "    }\n",
       "\n",
       "    .dataframe thead th {\n",
       "        text-align: right;\n",
       "    }\n",
       "</style>\n",
       "<table border=\"1\" class=\"dataframe\">\n",
       "  <thead>\n",
       "    <tr style=\"text-align: right;\">\n",
       "      <th></th>\n",
       "      <th>oferta</th>\n",
       "      <th>propiedad</th>\n",
       "      <th>monto</th>\n",
       "      <th>moneda</th>\n",
       "      <th>direccion</th>\n",
       "      <th>inmobiliaria</th>\n",
       "      <th>comentario</th>\n",
       "      <th>n_dormitorios</th>\n",
       "      <th>n_baños</th>\n",
       "      <th>comuna</th>\n",
       "      <th>unidad_medida</th>\n",
       "      <th>area</th>\n",
       "    </tr>\n",
       "  </thead>\n",
       "  <tbody>\n",
       "    <tr>\n",
       "      <th>0</th>\n",
       "      <td>venta</td>\n",
       "      <td>departamentos</td>\n",
       "      <td>4990</td>\n",
       "      <td>uf</td>\n",
       "      <td>comandante malbec 13133, la dehesa, lo barnechea</td>\n",
       "      <td>edificio aires malbec</td>\n",
       "      <td>&lt;NA&gt;</td>\n",
       "      <td>[1, 3]</td>\n",
       "      <td>[1, 2]</td>\n",
       "      <td>lo barnechea</td>\n",
       "      <td>m²</td>\n",
       "      <td>[54, 100]</td>\n",
       "    </tr>\n",
       "    <tr>\n",
       "      <th>1</th>\n",
       "      <td>venta</td>\n",
       "      <td>departamentos</td>\n",
       "      <td>4490</td>\n",
       "      <td>uf</td>\n",
       "      <td>josé manuel infante 1045, barrio italia, provi...</td>\n",
       "      <td>barrio infante</td>\n",
       "      <td>&lt;NA&gt;</td>\n",
       "      <td>[1, 3]</td>\n",
       "      <td>[1, 2]</td>\n",
       "      <td>providencia</td>\n",
       "      <td>m²</td>\n",
       "      <td>[39, 79]</td>\n",
       "    </tr>\n",
       "    <tr>\n",
       "      <th>2</th>\n",
       "      <td>venta</td>\n",
       "      <td>departamentos</td>\n",
       "      <td>3065</td>\n",
       "      <td>uf</td>\n",
       "      <td>edmundo eluchans 3011, reñaca, viña del mar</td>\n",
       "      <td>hoy eluchans</td>\n",
       "      <td>&lt;NA&gt;</td>\n",
       "      <td>[1, 2]</td>\n",
       "      <td>[1, 2]</td>\n",
       "      <td>viña del mar</td>\n",
       "      <td>m²</td>\n",
       "      <td>[30, 58]</td>\n",
       "    </tr>\n",
       "    <tr>\n",
       "      <th>3</th>\n",
       "      <td>venta</td>\n",
       "      <td>departamentos</td>\n",
       "      <td>1925</td>\n",
       "      <td>uf</td>\n",
       "      <td>castellón 1265, barrio poniente, concepción</td>\n",
       "      <td>edificio castellón 1265</td>\n",
       "      <td>&lt;NA&gt;</td>\n",
       "      <td>[1, 2]</td>\n",
       "      <td>[1, 2]</td>\n",
       "      <td>concepción</td>\n",
       "      <td>m²</td>\n",
       "      <td>[21, 56]</td>\n",
       "    </tr>\n",
       "    <tr>\n",
       "      <th>4</th>\n",
       "      <td>venta</td>\n",
       "      <td>departamentos</td>\n",
       "      <td>2531</td>\n",
       "      <td>uf</td>\n",
       "      <td>virginio arias 1371, juan gómez millas, ñuñoa</td>\n",
       "      <td>m ñuñoa</td>\n",
       "      <td>&lt;NA&gt;</td>\n",
       "      <td>[1, 2]</td>\n",
       "      <td>[1, 2]</td>\n",
       "      <td>ñuñoa</td>\n",
       "      <td>m²</td>\n",
       "      <td>[31, 51]</td>\n",
       "    </tr>\n",
       "    <tr>\n",
       "      <th>...</th>\n",
       "      <td>...</td>\n",
       "      <td>...</td>\n",
       "      <td>...</td>\n",
       "      <td>...</td>\n",
       "      <td>...</td>\n",
       "      <td>...</td>\n",
       "      <td>...</td>\n",
       "      <td>...</td>\n",
       "      <td>...</td>\n",
       "      <td>...</td>\n",
       "      <td>...</td>\n",
       "      <td>...</td>\n",
       "    </tr>\n",
       "    <tr>\n",
       "      <th>33151</th>\n",
       "      <td>arriendo temporal</td>\n",
       "      <td>otros inmuebles</td>\n",
       "      <td>35000</td>\n",
       "      <td>$</td>\n",
       "      <td>matías cousiño 82, santiago, chile, centro his...</td>\n",
       "      <td>&lt;NA&gt;</td>\n",
       "      <td>&lt;NA&gt;</td>\n",
       "      <td>&lt;NA&gt;</td>\n",
       "      <td>&lt;NA&gt;</td>\n",
       "      <td>santiago</td>\n",
       "      <td>m²</td>\n",
       "      <td>[80]</td>\n",
       "    </tr>\n",
       "    <tr>\n",
       "      <th>33152</th>\n",
       "      <td>arriendo temporal</td>\n",
       "      <td>otros inmuebles</td>\n",
       "      <td>10000</td>\n",
       "      <td>$</td>\n",
       "      <td>santo domingo 191, arauco maipú, maipú</td>\n",
       "      <td>&lt;NA&gt;</td>\n",
       "      <td>arriendo de pieza por dias o mensual</td>\n",
       "      <td>&lt;NA&gt;</td>\n",
       "      <td>&lt;NA&gt;</td>\n",
       "      <td>maipú</td>\n",
       "      <td>m²</td>\n",
       "      <td>[20]</td>\n",
       "    </tr>\n",
       "    <tr>\n",
       "      <th>33153</th>\n",
       "      <td>arriendo temporal</td>\n",
       "      <td>otros inmuebles</td>\n",
       "      <td>230000</td>\n",
       "      <td>$</td>\n",
       "      <td>logroño, san joaquín, chile, metro pedrero, sa...</td>\n",
       "      <td>&lt;NA&gt;</td>\n",
       "      <td>arriendo habitación amoblada a estudiante</td>\n",
       "      <td>&lt;NA&gt;</td>\n",
       "      <td>&lt;NA&gt;</td>\n",
       "      <td>san joaquín</td>\n",
       "      <td>m²</td>\n",
       "      <td>[15]</td>\n",
       "    </tr>\n",
       "    <tr>\n",
       "      <th>33154</th>\n",
       "      <td>arriendo temporal</td>\n",
       "      <td>otros inmuebles</td>\n",
       "      <td>380000</td>\n",
       "      <td>$</td>\n",
       "      <td>av. providencia, providencia, chile, manuel mo...</td>\n",
       "      <td>&lt;NA&gt;</td>\n",
       "      <td>arriendo pieza,solo a mujeres</td>\n",
       "      <td>&lt;NA&gt;</td>\n",
       "      <td>&lt;NA&gt;</td>\n",
       "      <td>providencia</td>\n",
       "      <td>m²</td>\n",
       "      <td>[4]</td>\n",
       "    </tr>\n",
       "    <tr>\n",
       "      <th>33155</th>\n",
       "      <td>arriendo temporal</td>\n",
       "      <td>otros inmuebles</td>\n",
       "      <td>75000</td>\n",
       "      <td>$</td>\n",
       "      <td>las pinpinelas 763, concón, chile, higuerillas...</td>\n",
       "      <td>&lt;NA&gt;</td>\n",
       "      <td>departamento para 2, 4 ó 6 ocupantes.</td>\n",
       "      <td>&lt;NA&gt;</td>\n",
       "      <td>&lt;NA&gt;</td>\n",
       "      <td>concón</td>\n",
       "      <td>m²</td>\n",
       "      <td>[75]</td>\n",
       "    </tr>\n",
       "  </tbody>\n",
       "</table>\n",
       "<p>33156 rows × 12 columns</p>\n",
       "</div>"
      ],
      "text/plain": [
       "                  oferta        propiedad   monto moneda  \\\n",
       "0                  venta    departamentos    4990     uf   \n",
       "1                  venta    departamentos    4490     uf   \n",
       "2                  venta    departamentos    3065     uf   \n",
       "3                  venta    departamentos    1925     uf   \n",
       "4                  venta    departamentos    2531     uf   \n",
       "...                  ...              ...     ...    ...   \n",
       "33151  arriendo temporal  otros inmuebles   35000      $   \n",
       "33152  arriendo temporal  otros inmuebles   10000      $   \n",
       "33153  arriendo temporal  otros inmuebles  230000      $   \n",
       "33154  arriendo temporal  otros inmuebles  380000      $   \n",
       "33155  arriendo temporal  otros inmuebles   75000      $   \n",
       "\n",
       "                                               direccion  \\\n",
       "0       comandante malbec 13133, la dehesa, lo barnechea   \n",
       "1      josé manuel infante 1045, barrio italia, provi...   \n",
       "2            edmundo eluchans 3011, reñaca, viña del mar   \n",
       "3            castellón 1265, barrio poniente, concepción   \n",
       "4          virginio arias 1371, juan gómez millas, ñuñoa   \n",
       "...                                                  ...   \n",
       "33151  matías cousiño 82, santiago, chile, centro his...   \n",
       "33152             santo domingo 191, arauco maipú, maipú   \n",
       "33153  logroño, san joaquín, chile, metro pedrero, sa...   \n",
       "33154  av. providencia, providencia, chile, manuel mo...   \n",
       "33155  las pinpinelas 763, concón, chile, higuerillas...   \n",
       "\n",
       "                  inmobiliaria                                 comentario  \\\n",
       "0        edificio aires malbec                                       <NA>   \n",
       "1               barrio infante                                       <NA>   \n",
       "2                 hoy eluchans                                       <NA>   \n",
       "3      edificio castellón 1265                                       <NA>   \n",
       "4                      m ñuñoa                                       <NA>   \n",
       "...                        ...                                        ...   \n",
       "33151                     <NA>                                       <NA>   \n",
       "33152                     <NA>       arriendo de pieza por dias o mensual   \n",
       "33153                     <NA>  arriendo habitación amoblada a estudiante   \n",
       "33154                     <NA>              arriendo pieza,solo a mujeres   \n",
       "33155                     <NA>      departamento para 2, 4 ó 6 ocupantes.   \n",
       "\n",
       "      n_dormitorios n_baños        comuna unidad_medida       area  \n",
       "0            [1, 3]  [1, 2]  lo barnechea            m²  [54, 100]  \n",
       "1            [1, 3]  [1, 2]   providencia            m²   [39, 79]  \n",
       "2            [1, 2]  [1, 2]  viña del mar            m²   [30, 58]  \n",
       "3            [1, 2]  [1, 2]    concepción            m²   [21, 56]  \n",
       "4            [1, 2]  [1, 2]         ñuñoa            m²   [31, 51]  \n",
       "...             ...     ...           ...           ...        ...  \n",
       "33151          <NA>    <NA>      santiago            m²       [80]  \n",
       "33152          <NA>    <NA>         maipú            m²       [20]  \n",
       "33153          <NA>    <NA>   san joaquín            m²       [15]  \n",
       "33154          <NA>    <NA>   providencia            m²        [4]  \n",
       "33155          <NA>    <NA>        concón            m²       [75]  \n",
       "\n",
       "[33156 rows x 12 columns]"
      ]
     },
     "execution_count": 320,
     "metadata": {},
     "output_type": "execute_result"
    }
   ],
   "source": [
    "raw = raw.drop(labels=[\"index\",\"metros_quad\"], axis=1)\n",
    "raw"
   ]
  },
  {
   "cell_type": "code",
   "execution_count": 322,
   "metadata": {},
   "outputs": [],
   "source": [
    "raw.to_csv(\"../data/real_estate_28-06-2022.csv\", index=False)"
   ]
  }
 ],
 "metadata": {
  "kernelspec": {
   "display_name": "Python 3.8.6 64-bit ('Algos-y-Estructuras': venv)",
   "language": "python",
   "name": "python3"
  },
  "language_info": {
   "codemirror_mode": {
    "name": "ipython",
    "version": 3
   },
   "file_extension": ".py",
   "mimetype": "text/x-python",
   "name": "python",
   "nbconvert_exporter": "python",
   "pygments_lexer": "ipython3",
   "version": "3.8.6"
  },
  "orig_nbformat": 4,
  "vscode": {
   "interpreter": {
    "hash": "b7eba32832bba5edd130fa314053240f1de890276c151ad5a56f1cb9163750ad"
   }
  }
 },
 "nbformat": 4,
 "nbformat_minor": 2
}
